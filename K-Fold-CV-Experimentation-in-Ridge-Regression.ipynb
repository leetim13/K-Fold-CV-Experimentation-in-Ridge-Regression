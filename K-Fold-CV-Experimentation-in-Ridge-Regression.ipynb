{
 "cells": [
  {
   "cell_type": "markdown",
   "metadata": {},
   "source": [
    "# K Fold CV Experimentation on Ridge Regression"
   ]
  },
  {
   "cell_type": "markdown",
   "metadata": {},
   "source": [
    "The goal of this mini project is to experiment with the `K-fold cross validation (CV)` procedure to tune the penalty parameter `λ` in Ridge regression, without using any pre-defined packages from libraries like `scikit-learn`."
   ]
  },
  {
   "cell_type": "markdown",
   "metadata": {},
   "source": [
    "## Background on Ridge Regression and `MAP` estimate"
   ]
  },
  {
   "cell_type": "markdown",
   "metadata": {},
   "source": [
    "In linear regression, we suppose that $\\mathbf{X} \\in \\mathbf{R}^{n\\times m}$ with $n ≥ m$ and $t ∈ \\mathbf{R}^n$, and that  $\\mathbf{t}|(\\mathbf{X}, \\mathbf{w}) \\sim \\mathbf{N}(\\mathbf{Xw}, \\sigma^2\\mathbf{I})$. We know that the maximum likelihood estimate $\\hat{\\mathbf{w}}$ of $\\mathbf{w}$ is given by $\\hat{\\mathbf{w}} = (X^TX)^{-1}X^Tt$."
   ]
  },
  {
   "cell_type": "markdown",
   "metadata": {},
   "source": [
    "Now, suppose we place a normal prior on $\\mathbf{w}|\\mathbf{X}$, i.e., $\\mathbf{w} \\sim \\mathbf{N}(0,\\tau^2\\mathbf{I})$. \n",
    "Then, the `MAP` (Maximum a posteriori) estimate  of $\\mathbf{w}$ is given as the maximum of the posterior density:"
   ]
  },
  {
   "cell_type": "markdown",
   "metadata": {},
   "source": [
    "$$\\hat{\\mathbf{w}}_{MAP} = \\underset{\\mathbf{w}}{\\text{argmax}}\\{p(\\mathbf{w}|\\mathbf{X}, \\mathbf{t}) \\propto p(\\mathbf{t}|\\mathbf{X}, \\mathbf{w})p(\\mathbf{w}|\\mathbf{X})\\}$$"
   ]
  },
  {
   "cell_type": "markdown",
   "metadata": {},
   "source": [
    "(Note that we use the $\\propto$ notation here to mean \"proportional to\", since we dropped the term $p(t|X)$ in the denominator as it doesn’t have $w$ in it, and thus doesn't contribute to the maximization problem.)"
   ]
  },
  {
   "cell_type": "markdown",
   "metadata": {},
   "source": [
    "By taking the log-likelihood and setting the derivative to 0, the `MAP` estimate of $w$ given $(t, X)$ will be given as:"
   ]
  },
  {
   "cell_type": "markdown",
   "metadata": {},
   "source": [
    "$$\\hat{\\mathbf{w}}_{MAP} = (X^TX+\\lambda I)^{-1}X^Tt$$  where $\\lambda = \\frac{\\sigma^2}{\\gamma^2}$. We will use this as the coefficients of the ridge regression with penalty level $\\lambda$ in the implementation of CV below with the function `train_model`."
   ]
  },
  {
   "cell_type": "markdown",
   "metadata": {},
   "source": [
    "## Procedure"
   ]
  },
  {
   "cell_type": "markdown",
   "metadata": {},
   "source": [
    "1. First we will set aside a test dataset and never use it until the training and parameter tuning procedures are complete. We will use this data for final evaluation. Test data is used as a separate dataset.\n",
    "2. Use the CV error to estimate the test error of a particular hyperparameter choice. For a particular hyperparameter value, we will split the training data into K blocks, and for k = 1, 2, ..., K we will use the k-th block for validation and the remaining K − 1 blocks for training. Therefore, we will train and validate our algorithm K times. The CV estimate for the test error for that particular hyperparameter choice is given by the average validation error across these K blocks.\n",
    "3. Repeat the above procedure for several hyperparameter choices and choose the one that provides us with the smalles CV error (which is an estimate for the test error)."
   ]
  },
  {
   "cell_type": "markdown",
   "metadata": {},
   "source": [
    "The `data` we will use is a variable and refers to a (`t`, `X`) pair (in test, training, or validation sets) where `t` is the target (response) vector, and `X` is the feature matrix.\n",
    "`model` is a variable and refers to the coefficients of the trained model, i.e. $\\hat{w}_{\\lambda}$."
   ]
  },
  {
   "cell_type": "markdown",
   "metadata": {},
   "source": [
    "## Implementation"
   ]
  },
  {
   "cell_type": "markdown",
   "metadata": {},
   "source": [
    "The function `shuffle_data(data)` will take data as an argument and returns its randomly permuted version along the samples. We will use a uniformly random permutation of the training data and note that `t` and `X` will be permuted the same way preserving the target-feature pairs."
   ]
  },
  {
   "cell_type": "code",
   "execution_count": 1,
   "metadata": {},
   "outputs": [],
   "source": [
    "def shuffle_data(data):\n",
    "    np.random.shuffle(data)\n",
    "    return data"
   ]
  },
  {
   "cell_type": "markdown",
   "metadata": {},
   "source": [
    "The function `split_data(data, num_folds, fold)` is a function that takes data, number of partitions as `num_folds` and the selected partition fold as its arguments and returns the selected partition (block) fold as `data_fold`, and the remaining data as `data_rest`. In other words, if we consider 5-fold cross validation, `num_folds=5`, the function will split the data into 5 blocks and returns the block $fold \\in {1, 2, 3, 4, 5})$ as the validation fold and the remaining 4 blocks as data_rest. Note that `data_rest` $\\cup$ `data_fold = data`, and `data_rest` $\\cap$ `data_fold` $= \\emptyset$."
   ]
  },
  {
   "cell_type": "code",
   "execution_count": 2,
   "metadata": {},
   "outputs": [],
   "source": [
    "def split_data(data, num_folds, fold): #data is [(2, array([2,3,4])), array((b, [1,2,3]))] #fold = 1,2,3..\n",
    "    data_rest = []\n",
    "    data_fold = []\n",
    "    slicing = len(data) / num_folds\n",
    "    for i in range(len(data)):\n",
    "        if i != (fold): \n",
    "            data_rest.extend(data[int(i*slicing):int((i+1)*slicing)])\n",
    "        else:\n",
    "            data_fold.extend(data[int(i*slicing):int((i+1)*slicing)])\n",
    "    return data_fold, data_rest"
   ]
  },
  {
   "cell_type": "markdown",
   "metadata": {},
   "source": [
    "The function `train_model(data, lambd)` takes data and lambd as its arguments, and returns the coefficients of ridge regression with penalty level $λ$, using the expression we derived above."
   ]
  },
  {
   "cell_type": "code",
   "execution_count": 4,
   "metadata": {},
   "outputs": [],
   "source": [
    "def train_model(data, lambd):\n",
    "    X = []\n",
    "    t = []\n",
    "    \n",
    "    for i in range(len(data)):\n",
    "        X.append(data[i][1])\n",
    "        t.append(data[i][0])\n",
    "    X = np.array(X)\n",
    "    t = np.array(t)\n",
    "    X_transpose = X.transpose()\n",
    "    return (np.linalg.inv(X_transpose.dot(X) + lambd * np.identity(X.shape[1])).dot(X_transpose)).dot(t)"
   ]
  },
  {
   "cell_type": "markdown",
   "metadata": {},
   "source": [
    "The function `predict(data, model)` is a function that takes data and model as its arguments, and returns the predictions based on data and model."
   ]
  },
  {
   "cell_type": "code",
   "execution_count": 5,
   "metadata": {},
   "outputs": [],
   "source": [
    "def predict(data, model):\n",
    "    X = []\n",
    "    t = []\n",
    "    for i in range(len(data)):\n",
    "        X.append(data[i][1])\n",
    "        t.append(data[i][0])\n",
    "    X_np = np.array(X)\n",
    "    return np.dot(X_np, model)"
   ]
  },
  {
   "cell_type": "markdown",
   "metadata": {},
   "source": [
    "The function `loss(data, model)` takes data and model as its arguments and returns the average squared error loss based on model. This means if data is composed of $t \\in R^n$ and $X \\in R^{n \\times p}$ and the model is $\\hat{\\mathbf{w}}$ , then the return value will be $||t - X\\hat{\\mathbf{w}}||^2/n$."
   ]
  },
  {
   "cell_type": "code",
   "execution_count": 6,
   "metadata": {},
   "outputs": [],
   "source": [
    "def loss(data, model):\n",
    "    X = []\n",
    "    t = []\n",
    "    n = len(data)\n",
    "    for i in range(len(data)):\n",
    "        X.append(data[i][1])\n",
    "        t.append(data[i][0])\n",
    "    X = np.array(X)\n",
    "    t = np.array(t)\n",
    "    prediction = predict(data, model)\n",
    "    error = (np.linalg.norm(t - prediction ,2) **2)/n\n",
    "    return error"
   ]
  },
  {
   "cell_type": "markdown",
   "metadata": {},
   "source": [
    "The function `cross_validation(data, num_folds, lambd_seq)` takes the training data, number of folds num_folds, and a sequence of $\\lambda$'s as `lambd_seq` as its arguments and returns the cross validation error across all $\\lambda$'s. If we take `lambd_seq` as evenly spaced 50 numbers over the interval (0.02, 1.5). This means `cv_error` will be a vector of 50 errors corresponding to the values of `lambd_seq`. "
   ]
  },
  {
   "cell_type": "code",
   "execution_count": 7,
   "metadata": {},
   "outputs": [],
   "source": [
    "def cross_validation(data, num_folds, lambd_seq):\n",
    "    data = shuffle_data(data)\n",
    "    cv_error = []\n",
    "    for i in range(len(lambd_seq)):\n",
    "        lambd = lambd_seq[i]\n",
    "        cv_loss_lmd = 0\n",
    "        for fold in range(num_folds):\n",
    "            val_cv, train_cv = split_data(data, num_folds, fold)\n",
    "            model = train_model(train_cv, lambd)      \n",
    "            cv_loss_lmd += loss(val_cv, model)\n",
    "        cv_error.append(cv_loss_lmd / num_folds)\n",
    "    return cv_error"
   ]
  },
  {
   "cell_type": "markdown",
   "metadata": {},
   "source": [
    "## Execution "
   ]
  },
  {
   "cell_type": "code",
   "execution_count": 19,
   "metadata": {},
   "outputs": [],
   "source": [
    "#setup\n",
    "import matplotlib. pyplot as plt\n",
    "import numpy as np\n",
    "\n",
    "data_train = {'X': np.genfromtxt('data_train_X.csv', delimiter= ','),\n",
    "                                 't': np.genfromtxt('data_train_y.csv', delimiter=',')}\n",
    "data_test = {'X': np.genfromtxt('data_test_X.csv', delimiter= ','),\n",
    "                                 't': np.genfromtxt('data_test_y.csv', delimiter=',')}\n",
    "\n",
    "t_train = data_train['t']\n",
    "X_train = data_train['X']\n",
    "t_test = data_test['t']\n",
    "X_test = data_test['X']\n",
    "\n",
    "data_train_ = []\n",
    "for i in range(len(t_train)):\n",
    "    data_train_.append((t_train[i], X_train[i]))\n",
    "\n",
    "data_test_ = []\n",
    "for i in range(len(t_test)):\n",
    "    data_test_.append((t_test[i], X_test[i]))"
   ]
  },
  {
   "cell_type": "markdown",
   "metadata": {},
   "source": [
    "Initialize a `lambd_seq` amd find the training and test errors corresponding to each $\\lambda$ in `lambd_seq`."
   ]
  },
  {
   "cell_type": "code",
   "execution_count": 12,
   "metadata": {},
   "outputs": [
    {
     "data": {
      "text/plain": [
       "array([0.02      , 0.05020408, 0.08040816, 0.11061224, 0.14081633,\n",
       "       0.17102041, 0.20122449, 0.23142857, 0.26163265, 0.29183673,\n",
       "       0.32204082, 0.3522449 , 0.38244898, 0.41265306, 0.44285714,\n",
       "       0.47306122, 0.50326531, 0.53346939, 0.56367347, 0.59387755,\n",
       "       0.62408163, 0.65428571, 0.6844898 , 0.71469388, 0.74489796,\n",
       "       0.77510204, 0.80530612, 0.8355102 , 0.86571429, 0.89591837,\n",
       "       0.92612245, 0.95632653, 0.98653061, 1.01673469, 1.04693878,\n",
       "       1.07714286, 1.10734694, 1.13755102, 1.1677551 , 1.19795918,\n",
       "       1.22816327, 1.25836735, 1.28857143, 1.31877551, 1.34897959,\n",
       "       1.37918367, 1.40938776, 1.43959184, 1.46979592, 1.5       ])"
      ]
     },
     "execution_count": 12,
     "metadata": {},
     "output_type": "execute_result"
    }
   ],
   "source": [
    "lambd_seq = np.linspace (0.02 , 1.5 , num =50)\n",
    "lambd_seq"
   ]
  },
  {
   "cell_type": "code",
   "execution_count": 20,
   "metadata": {},
   "outputs": [
    {
     "name": "stdout",
     "output_type": "stream",
     "text": [
      "training error is 0.049736491547443556 for lamda = 0.02\n",
      "testing error is 5.106959783590839 for lamda = 0.02\n",
      "\n",
      "training error is 0.10583474384162299 for lamda = 0.050204081632653066\n",
      "testing error is 3.6308336211216363 for lamda = 0.050204081632653066\n",
      "\n",
      "training error is 0.1539702959791624 for lamda = 0.08040816326530613\n",
      "testing error is 3.070316730406794 for lamda = 0.08040816326530613\n",
      "\n",
      "training error is 0.19754784437778394 for lamda = 0.11061224489795919\n",
      "testing error is 2.770942353158946 for lamda = 0.11061224489795919\n",
      "\n",
      "training error is 0.23812998498606192 for lamda = 0.14081632653061224\n",
      "testing error is 2.5873531089834767 for lamda = 0.14081632653061224\n",
      "\n",
      "training error is 0.2765778425897501 for lamda = 0.1710204081632653\n",
      "testing error is 2.46600554123685 for lamda = 0.1710204081632653\n",
      "\n",
      "training error is 0.3134077787636036 for lamda = 0.20122448979591837\n",
      "testing error is 2.3821345226047588 for lamda = 0.20122448979591837\n",
      "\n",
      "training error is 0.34894854455537194 for lamda = 0.23142857142857143\n",
      "testing error is 2.322604952044621 for lamda = 0.23142857142857143\n",
      "\n",
      "training error is 0.383419726293373 for lamda = 0.2616326530612245\n",
      "testing error is 2.2797682611372783 for lamda = 0.2616326530612245\n",
      "\n",
      "training error is 0.4169740335581198 for lamda = 0.2918367346938776\n",
      "testing error is 2.2488554532446563 for lamda = 0.2918367346938776\n",
      "\n",
      "training error is 0.44972145002038727 for lamda = 0.32204081632653064\n",
      "testing error is 2.2267329040044137 for lamda = 0.32204081632653064\n",
      "\n",
      "training error is 0.4817436850928968 for lamda = 0.3522448979591837\n",
      "testing error is 2.2112542627296 for lamda = 0.3522448979591837\n",
      "\n",
      "training error is 0.5131031658916717 for lamda = 0.38244897959183677\n",
      "testing error is 2.2008990424758874 for lamda = 0.38244897959183677\n",
      "\n",
      "training error is 0.5438488213771094 for lamda = 0.41265306122448986\n",
      "testing error is 2.1945597160259633 for lamda = 0.41265306122448986\n",
      "\n",
      "training error is 0.5740199114355471 for lamda = 0.4428571428571429\n",
      "testing error is 2.191410495310007 for lamda = 0.4428571428571429\n",
      "\n",
      "training error is 0.6036486259742307 for lamda = 0.47306122448979593\n",
      "testing error is 2.1908233267429944 for lamda = 0.47306122448979593\n",
      "\n",
      "training error is 0.6327618883816958 for lamda = 0.503265306122449\n",
      "testing error is 2.19231234559038 for lamda = 0.503265306122449\n",
      "\n",
      "training error is 0.6613826315442856 for lamda = 0.5334693877551021\n",
      "testing error is 2.19549610907252 for lamda = 0.5334693877551021\n",
      "\n",
      "training error is 0.6895307165151994 for lamda = 0.5636734693877552\n",
      "testing error is 2.2000712857772213 for lamda = 0.5636734693877552\n",
      "\n",
      "training error is 0.7172236043300794 for lamda = 0.5938775510204082\n",
      "testing error is 2.2057939302127725 for lamda = 0.5938775510204082\n",
      "\n",
      "training error is 0.744476854302519 for lamda = 0.6240816326530613\n",
      "testing error is 2.212465901009173 for lamda = 0.6240816326530613\n",
      "\n",
      "training error is 0.7713044984197196 for lamda = 0.6542857142857144\n",
      "testing error is 2.2199248420992013 for lamda = 0.6542857142857144\n",
      "\n",
      "training error is 0.7977193260052297 for lamda = 0.6844897959183673\n",
      "testing error is 2.2280366793638153 for lamda = 0.6844897959183673\n",
      "\n",
      "training error is 0.8237331025510497 for lamda = 0.7146938775510204\n",
      "testing error is 2.236689923866469 for lamda = 0.7146938775510204\n",
      "\n",
      "training error is 0.8493567396836511 for lamda = 0.7448979591836735\n",
      "testing error is 2.2457912928224277 for lamda = 0.7448979591836735\n",
      "\n",
      "training error is 0.874600428464105 for lamda = 0.7751020408163266\n",
      "testing error is 2.2552623053593632 for lamda = 0.7751020408163266\n",
      "\n",
      "training error is 0.899473744902703 for lamda = 0.8053061224489797\n",
      "testing error is 2.265036608704424 for lamda = 0.8053061224489797\n",
      "\n",
      "training error is 0.9239857342239819 for lamda = 0.8355102040816327\n",
      "testing error is 2.2750578581743093 for lamda = 0.8355102040816327\n",
      "\n",
      "training error is 0.9481449787418323 for lamda = 0.8657142857142858\n",
      "testing error is 2.28527802162468 for lamda = 0.8657142857142858\n",
      "\n",
      "training error is 0.9719596529922097 for lamda = 0.8959183673469389\n",
      "testing error is 2.295656012489221 for lamda = 0.8959183673469389\n",
      "\n",
      "training error is 0.9954375688851004 for lamda = 0.9261224489795918\n",
      "testing error is 2.3061565795529306 for lamda = 0.9261224489795918\n",
      "\n",
      "training error is 1.0185862129836332 for lamda = 0.9563265306122449\n",
      "testing error is 2.3167493990436494 for lamda = 0.9563265306122449\n",
      "\n",
      "training error is 1.041412777531398 for lamda = 0.986530612244898\n",
      "testing error is 2.3274083274349833 for lamda = 0.986530612244898\n",
      "\n",
      "training error is 1.063924186483408 for lamda = 1.016734693877551\n",
      "testing error is 2.338110782861745 for lamda = 1.016734693877551\n",
      "\n",
      "training error is 1.0861271175193965 for lamda = 1.0469387755102042\n",
      "testing error is 2.3488372301764078 for lamda = 1.0469387755102042\n",
      "\n",
      "training error is 1.1080280208071303 for lamda = 1.0771428571428572\n",
      "testing error is 2.359570750067329 for lamda = 1.0771428571428572\n",
      "\n",
      "training error is 1.1296331351214224 for lamda = 1.1073469387755104\n",
      "testing error is 2.3702966767743354 for lamda = 1.1073469387755104\n",
      "\n",
      "training error is 1.1509485017993362 for lamda = 1.1375510204081634\n",
      "testing error is 2.38100229210287 for lamda = 1.1375510204081634\n",
      "\n",
      "training error is 1.1719799769147732 for lamda = 1.1677551020408163\n",
      "testing error is 2.3916765658918995 for lamda = 1.1677551020408163\n",
      "\n",
      "training error is 1.1927332419795647 for lamda = 1.1979591836734695\n",
      "testing error is 2.402309935006742 for lamda = 1.1979591836734695\n",
      "\n",
      "training error is 1.213213813418383 for lamda = 1.2281632653061225\n",
      "testing error is 2.4128941144341827 for lamda = 1.2281632653061225\n",
      "\n",
      "training error is 1.233427051017561 for lamda = 1.2583673469387755\n",
      "testing error is 2.4234219352488062 for lamda = 1.2583673469387755\n",
      "\n",
      "training error is 1.2533781655104115 for lamda = 1.2885714285714287\n",
      "testing error is 2.4338872051679505 for lamda = 1.2885714285714287\n",
      "\n",
      "training error is 1.2730722254317446 for lamda = 1.3187755102040817\n",
      "testing error is 2.444284588171958 for lamda = 1.3187755102040817\n",
      "\n",
      "training error is 1.2925141633503363 for lamda = 1.3489795918367347\n",
      "testing error is 2.454609500277588 for lamda = 1.3489795918367347\n",
      "\n",
      "training error is 1.3117087815688546 for lamda = 1.3791836734693879\n",
      "testing error is 2.464858019046957 for lamda = 1.3791836734693879\n",
      "\n",
      "training error is 1.3306607573652036 for lamda = 1.4093877551020408\n",
      "testing error is 2.475026804816476 for lamda = 1.4093877551020408\n",
      "\n",
      "training error is 1.3493746478366544 for lamda = 1.439591836734694\n",
      "testing error is 2.4851130319587362 for lamda = 1.439591836734694\n",
      "\n",
      "training error is 1.3678548943978908 for lamda = 1.469795918367347\n",
      "testing error is 2.4951143287599042 for lamda = 1.469795918367347\n",
      "\n",
      "training error is 1.3861058269757283 for lamda = 1.5\n",
      "testing error is 2.5050287247173055 for lamda = 1.5\n",
      "\n"
     ]
    }
   ],
   "source": [
    "training_data = shuffle_data(data_train_)\n",
    "testing_data = shuffle_data(data_test_)  \n",
    "training_error_list = []\n",
    "testing_error_list = []\n",
    "\n",
    "five_fold_error = cross_validation(training_data, 5, lambd_seq)\n",
    "ten_fold_error = cross_validation(training_data, 10, lambd_seq)\n",
    "\n",
    "for lambd in lambd_seq:\n",
    "    model = train_model(training_data, lambd)\n",
    "    training_error = loss(training_data, model)\n",
    "    training_error_list.append(training_error)\n",
    "    testing_error = loss(testing_data, model)\n",
    "    testing_error_list.append(testing_error)\n",
    "\n",
    "    print(\"training error is \"+ str(training_error) + \" for lamda = \" +str (lambd))\n",
    "    print(\"testing error is \"+ str(testing_error) + \" for lamda = \" +str (lambd)+\"\\n\")"
   ]
  },
  {
   "cell_type": "markdown",
   "metadata": {},
   "source": [
    "Plot training error, test error, and 5-fold and 10-fold cross validation errors on the same plot for each value in `lambd_seq`."
   ]
  },
  {
   "cell_type": "code",
   "execution_count": 32,
   "metadata": {},
   "outputs": [
    {
     "data": {
      "image/png": "[encoded data removed]",
      "text/plain": [
       "<Figure size 432x288 with 1 Axes>"
      ]
     },
     "metadata": {
      "needs_background": "light"
     },
     "output_type": "display_data"
    }
   ],
   "source": [
    "plt.plot(lambd_seq, training_error_list, label='training_error') \n",
    "plt.plot(lambd_seq, testing_error_list, label='testing_error')\n",
    "plt.plot(lambd_seq, five_fold_error, label='five_fold_error') \n",
    "plt.plot(lambd_seq, ten_fold_error, label='ten_fold_error')\n",
    "plt.ylabel(\"Error\")\n",
    "plt.xlabel(\"lambda\")\n",
    "plt.legend()\n",
    "plt.savefig(\"final_plot.png\")"
   ]
  },
  {
   "cell_type": "code",
   "execution_count": 28,
   "metadata": {},
   "outputs": [
    {
     "name": "stdout",
     "output_type": "stream",
     "text": [
      "Lambda value proposed by 5-fold cv is: 0.38244897959183677 having a cv error of 2.8770597183858024\n",
      "Lambda value proposed by 10-fold cv is: 0.32204081632653064 having a cv error of 2.716745953633525\n"
     ]
    }
   ],
   "source": [
    "min_five_fold = min(five_fold_error)\n",
    "min_ten_fold = min(ten_fold_error)\n",
    "print(\"Lambda value proposed by 5-fold cv is: \" + str(lambd_seq[five_fold_error.index(min_five_fold)]) + \n",
    "      \" having a cv error of \" + str(min_five_fold))\n",
    "print(\"Lambda value proposed by 10-fold cv is: \" + str(lambd_seq[ten_fold_error.index(min_ten_fold)]) + \n",
    "      \" having a cv error of \" + str(min_ten_fold))"
   ]
  },
  {
   "cell_type": "markdown",
   "metadata": {},
   "source": [
    "Based on the graph, the `training error` is the only function that seems to increase steadily as `lambda`\n",
    "increases (perhaps even exponentially, if we only consider the scale of this graph). We can also see\n",
    "that the training error is extremely low for small lambda, which is the exact opposite for the other 3\n",
    "errors. For `testing`, 5-fold, and 10-fold errors, the errors originally start off at a very high error rate,\n",
    "but significantly decrease between 0 to 0.2 lambda, then it comes to a gradual increase.\n",
    "While the gap between 10-fold and 5-fold errors didn’t differ by a significant amount, we can see that\n",
    "5-fold error performed consistently better than both both the testing and 10-fold errors. This is due\n",
    "to the fact that when `lambda` increases in ridge regression, the variance decreases but the bias will in\n",
    "turn increase"
   ]
  }
 ],
 "metadata": {
  "kernelspec": {
   "display_name": "Python 3",
   "language": "python",
   "name": "python3"
  },
  "language_info": {
   "codemirror_mode": {
    "name": "ipython",
    "version": 3
   },
   "file_extension": ".py",
   "mimetype": "text/x-python",
   "name": "python",
   "nbconvert_exporter": "python",
   "pygments_lexer": "ipython3",
   "version": "3.7.3"
  }
 },
 "nbformat": 4,
 "nbformat_minor": 2
}
